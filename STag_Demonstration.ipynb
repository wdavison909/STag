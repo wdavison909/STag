{
 "cells": [
  {
   "cell_type": "markdown",
   "metadata": {
    "id": "3lDkywn1NeyV"
   },
   "source": [
    "# STag Demonstration\n",
    "\n",
    "The following iPython Jupyter notebook gives a step-by-step demonstration of how to use STag to get the tag probabilities and the predicted class for a spectra.\n",
    "\n",
    "# Setup\n",
    "\n",
    "The first step is to read in the beta values for each of the tags as well as an example spectrum (this can be modified to read in an appropriate spectrum of your choice).\n",
    "\n",
    "**Note:** You will need to change the 'path' directory to the appropriate one for your own system."
   ]
  },
  {
   "cell_type": "code",
   "execution_count": 1,
   "metadata": {
    "colab": {
     "base_uri": "https://localhost:8080/",
     "height": 375
    },
    "id": "Ta4ahtHDK9DV",
    "outputId": "72ae8a41-2f2d-4a4f-f037-7758b52989fe"
   },
   "outputs": [],
   "source": [
    "import beta_reader\n",
    "import numpy as np\n",
    "import os \n",
    "\n",
    "path = os.getcwd()\n",
    "beta = beta_reader.beta_reader(path)\n",
    "spectra = '%s/DES15C2aty_C2_combined_150917_v03_b00.fits' % path\n",
    "name = 'DES15C2aty'\n",
    "z = 0.149"
   ]
  },
  {
   "cell_type": "markdown",
   "metadata": {
    "id": "o2UPzpBoQ2Jh"
   },
   "source": [
    "# Pre-processing\n",
    "\n",
    "In order to use STag, spectra need to be pre-processed appropriately. This involves filtering, de-redshifting, binning, continuum removal, apodisation, and scaling.\n",
    "\n",
    "All of these steps are handled by the spectra_preprocessing package, which largely uses methods made for the software [DASH](https://github.com/daniel-muthukrishna/astrodash)."
   ]
  },
  {
   "cell_type": "code",
   "execution_count": 2,
   "metadata": {
    "id": "aQoFeWAvQ2bV"
   },
   "outputs": [
    {
     "name": "stdout",
     "output_type": "stream",
     "text": [
      "Pandas module not installed. DASH will use numpy to load spectral files instead. This can be up to 10x slower.\n"
     ]
    }
   ],
   "source": [
    "import spectra_preprocessing as sp\n",
    "from astropy.io import fits\n",
    "\n",
    "#Read in the fits file of the spectra and extract the flux and wavelength\n",
    "fits_file = spectra\n",
    "table = fits.open(fits_file)\n",
    "flux = table[0].data\n",
    "w0 = table[0].header['CRVAL1']\n",
    "dw = table[0].header['CDELT1']\n",
    "p0 = table[0].header['CRPIX1']\n",
    "nlam = len(flux)\n",
    "wave = w0+dw*(np.arange(nlam, dtype='d')-p0)\n",
    "table.close()\n",
    "\n",
    "full = np.column_stack((wave, flux))\n",
    "\n",
    "#Initialise for pre-processing\n",
    "preProcess = sp.PreProcessing(full, 2500, 10000, 1024)\n",
    "\n",
    "#Do the pre-processing steps\n",
    "sfWave, sfFlux, minInd, maxInd, sfZ, sfArea = preProcess.two_column_data(z, smooth=6, minWave=2500, maxWave=10000)\n",
    "\n",
    "#Do scaling                                                                            \n",
    "flux_pro = sfFlux/sfArea"
   ]
  },
  {
   "cell_type": "markdown",
   "metadata": {
    "id": "L-sUbK8ZkgT2"
   },
   "source": [
    "# Cutting the Spectra\n",
    "\n",
    "Many of the tags use specific wavelength ranges of the spectrum rather than the whole thing and so we create multiple instances of the original spectrum cut at the corresponding wavelengths for each tag. "
   ]
  },
  {
   "cell_type": "code",
   "execution_count": 3,
   "metadata": {
    "id": "N1EcHncfl0qO"
   },
   "outputs": [],
   "source": [
    "class feature_data(object):\n",
    "    \"\"\"a class for holding the wavelength and flux for a specific tag.\"\"\"\n",
    "    def __init__(self, label):\n",
    "        self.label = label\n",
    "        self.wavelength = []\n",
    "        self.flux = []\n",
    "\n",
    "cuts = np.genfromtxt('%s/cuts.txt' % path, dtype=int)\n",
    "# silicon\n",
    "si_tag = feature_data('Si')\n",
    "si_tag.wavelength = cuts[0]\n",
    "si_tag.flux = flux_pro[si_tag.wavelength[0]:si_tag.wavelength[1]]\n",
    "\n",
    "#helium\n",
    "he_tag = feature_data('He')\n",
    "he_tag.wavelength = cuts[1]\n",
    "he_tag.flux = flux_pro[he_tag.wavelength[0]:he_tag.wavelength[1]]\n",
    "\n",
    "#calcium\n",
    "ca_tag = feature_data('Ca')\n",
    "ca_tag.wavelength = cuts[2]\n",
    "ca_tag.flux = flux_pro[ca_tag.wavelength[0]:ca_tag.wavelength[1]]\n",
    "\n",
    "#Helium double peak\n",
    "dp_tag = feature_data('He double peak')\n",
    "dp_tag.wavelength = cuts[3]\n",
    "dp_tag.flux = flux_pro[dp_tag.wavelength[0]:dp_tag.wavelength[1]]\n",
    "\n",
    "#Iron\n",
    "fe_tag = feature_data('Fe')\n",
    "fe_tag.wavelength = cuts[4]\n",
    "fe_tag.flux = flux_pro[fe_tag.wavelength[0]:fe_tag.wavelength[1]]\n",
    "\n",
    "#Sulphur\n",
    "s_tag = feature_data('S')\n",
    "s_tag.wavelength = cuts[5]\n",
    "s_tag.flux = flux_pro[s_tag.wavelength[0]:s_tag.wavelength[1]]"
   ]
  },
  {
   "cell_type": "markdown",
   "metadata": {
    "id": "buC5DrRJnuj4"
   },
   "source": [
    "# Tagging\n",
    "\n",
    "With spectra pre-processed and the necessary cuts made, we can now get the tag probabilities of the spectra and add them to an array ready to be given to the trained classifier."
   ]
  },
  {
   "cell_type": "code",
   "execution_count": 4,
   "metadata": {
    "id": "-ilC7PlVoKtO"
   },
   "outputs": [],
   "source": [
    "from tagging import log_reg_two\n",
    "\n",
    "final = np.zeros([1,10])\n",
    "\n",
    "#Get Hydrogen tag probabilities\n",
    "H_result = log_reg_two(flux_pro, beta[0])\n",
    "final[0][0] = H_result\n",
    "\n",
    "#Get Silicon tag probabilities\n",
    "Si_result = log_reg_two(si_tag.flux, beta[1])\n",
    "final[0][1] = Si_result\n",
    "\n",
    "#Get Helium emission tag probabilities\n",
    "He_emi_result = log_reg_two(he_tag.flux, beta[2])\n",
    "final[0][2] = He_emi_result\n",
    "\n",
    "#Get Helium p cygni tag probabilities\n",
    "He_cyg_result = log_reg_two(he_tag.flux, beta[3])\n",
    "final[0][3] = He_cyg_result\n",
    "\n",
    "#Get Helium absorption tag probabilities\n",
    "He_abs_result = log_reg_two(he_tag.flux, beta[4])\n",
    "final[0][4] = He_abs_result\n",
    "\n",
    "#Get Hydrogen alpha tag probabilities\n",
    "H_alp_result = log_reg_two(flux_pro, beta[5])\n",
    "final[0][5] = H_alp_result\n",
    "\n",
    "#Get Calcium tag probabilities\n",
    "Ca_result = log_reg_two(ca_tag.flux, beta[6])\n",
    "final[0][6] = Ca_result\n",
    "\n",
    "#Get Helium double peak tag probabilities\n",
    "dp_result = log_reg_two(dp_tag.flux, beta[7])\n",
    "final[0][7] = dp_result\n",
    "\n",
    "#Get Fe tag probabilities\n",
    "fe_result = log_reg_two(fe_tag.flux, beta[8])\n",
    "final[0][8] = fe_result\n",
    "\n",
    "#Get S tag probabilities\n",
    "s_result = log_reg_two(s_tag.flux, beta[9])\n",
    "final[0][9] = s_result"
   ]
  },
  {
   "cell_type": "markdown",
   "metadata": {
    "id": "5I3z-TRIlGUs"
   },
   "source": [
    "# Tag Probabilities\n",
    "\n",
    "One of the key features of STag is that all of the tags have probabilties, which can be accessed on demand."
   ]
  },
  {
   "cell_type": "code",
   "execution_count": 7,
   "metadata": {},
   "outputs": [
    {
     "name": "stdout",
     "output_type": "stream",
     "text": [
      "H        0.000\n",
      "Si       0.998\n",
      "He emi   0.000\n",
      "He P-cyg 0.000\n",
      "He abs   0.000\n",
      "H-alpha  0.007\n",
      "Ca       1.000\n",
      "He  6678 0.039\n",
      "Fe       1.000\n",
      "S        0.000\n"
     ]
    }
   ],
   "source": [
    "tag_names = ['H       ','Si      ','He emi  ','He P-cyg','He abs  ','H-alpha ','Ca      ','He  6678','Fe      ','S       ']\n",
    "for i in range(0,len(tag_names)):\n",
    "    print(\"{0:s} {1:5.3f}\".format(tag_names[i],final[0][i]))"
   ]
  },
  {
   "cell_type": "markdown",
   "metadata": {
    "id": "n0dH9swhqlFe"
   },
   "source": [
    "# Classifying\n",
    "\n",
    "We can now make our predictions for the class of the supernova by using the trained model. Since we are using softmax, we use 'np.argmax' to select the class with the highest probability, though one can see the probabilities of all the classes by printing 'class_prob'.\n",
    "\n",
    "The predicted class is given a number, which corresponds to one of the 5 possible classes:\n",
    "\n",
    "0 = Type Ia\n",
    "\n",
    "1 = Type II\n",
    "\n",
    "2 = Type Ib\n",
    "\n",
    "3 = Type Ic\n",
    "\n",
    "4 = Type IIb\n"
   ]
  },
  {
   "cell_type": "code",
   "execution_count": 9,
   "metadata": {
    "id": "v5vONcaOqjuY"
   },
   "outputs": [
    {
     "name": "stdout",
     "output_type": "stream",
     "text": [
      "SN DES15C2aty (with redshift 0.149) predicted class is 0 with a 0.986 probability \n"
     ]
    }
   ],
   "source": [
    "import keras\n",
    "v = keras.__version__\n",
    "from packaging import version\n",
    "if version.parse(v) < version.parse('2.5.0'):\n",
    "    print(\"You may need to update Keras\")\n",
    "\n",
    "#Load in the trained model\n",
    "model = keras.models.load_model('%s/Classifier Model.h5' % path)\n",
    "\n",
    "#Make classification prediction\n",
    "class_prob = model.predict(final)\n",
    "preds = np.argmax(class_prob, axis=-1)\n",
    "print(\"SN %s (with redshift %.3f) predicted class is %d with a %.3f probability \" %  (name,z,preds,class_prob[0][preds]))"
   ]
  },
  {
   "cell_type": "markdown",
   "metadata": {
    "id": "Vgy6qy7Zm461"
   },
   "source": [
    "# Closing Remarks\n",
    "\n",
    "One can use STag by following the steps outlined in this notebook, and with slight modifications one can adapt this code to run on multiple spectra rather than one at a time. \n",
    "\n",
    "Note that the classifying model used has only been trained on the 10 tags shown in this notebook, if one wishes to add additional tags then the model will need to be trained again. A more detailed description of how the tags have been made and how the model was built can be found in our paper: LINK GOES HERE."
   ]
  },
  {
   "cell_type": "code",
   "execution_count": null,
   "metadata": {},
   "outputs": [],
   "source": []
  }
 ],
 "metadata": {
  "colab": {
   "name": "STag Demonstration.ipynb",
   "provenance": []
  },
  "kernelspec": {
   "display_name": "Python 3",
   "language": "python",
   "name": "python3"
  },
  "language_info": {
   "codemirror_mode": {
    "name": "ipython",
    "version": 3
   },
   "file_extension": ".py",
   "mimetype": "text/x-python",
   "name": "python",
   "nbconvert_exporter": "python",
   "pygments_lexer": "ipython3",
   "version": "3.8.8"
  }
 },
 "nbformat": 4,
 "nbformat_minor": 1
}
