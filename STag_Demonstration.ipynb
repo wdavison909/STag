{
 "cells": [
  {
   "cell_type": "markdown",
   "metadata": {
    "id": "3lDkywn1NeyV"
   },
   "source": [
    "# STag Demonstration\n",
    "\n",
    "The following iPython Jupyter notebook gives a step-by-step demonstration of how to use STag to get the tag probabilities and the predicted class for a spectra.\n",
    "\n",
    "# Setup\n",
    "\n",
    "The first step is to read in the beta values for each of the tags as well as an example spectrum (this can be modified to read in an appropriate spectrum of your choice).\n"
   ]
  },
  {
   "cell_type": "code",
   "execution_count": 1,
   "metadata": {
    "colab": {
     "base_uri": "https://localhost:8080/",
     "height": 375
    },
    "id": "Ta4ahtHDK9DV",
    "outputId": "72ae8a41-2f2d-4a4f-f037-7758b52989fe"
   },
   "outputs": [],
   "source": [
    "import beta_reader\n",
    "import numpy as np\n",
    "import os \n",
    "\n",
    "path = os.getcwd()\n",
    "beta = beta_reader.beta_reader(path)\n",
    "spectra = '%s/DES15C2aty_C2_combined_150917_v03_b00.fits' % path\n",
    "name = 'DES15C2aty'\n",
    "z = 0.149"
   ]
  },
  {
   "cell_type": "markdown",
   "metadata": {
    "id": "o2UPzpBoQ2Jh"
   },
   "source": [
    "# Pre-processing\n",
    "\n",
    "In order to use STag, spectra need to be pre-processed appropriately. This involves filtering, de-redshifting, binning, continuum removal, apodisation, and scaling.\n",
    "\n",
    "All of these steps are handled by the spectra_preprocessing package, which largely uses methods made for the software [DASH](https://github.com/daniel-muthukrishna/astrodash)."
   ]
  },
  {
   "cell_type": "code",
   "execution_count": 2,
   "metadata": {
    "id": "aQoFeWAvQ2bV"
   },
   "outputs": [],
   "source": [
    "import spectra_preprocessing as sp\n",
    "from astropy.io import fits\n",
    "\n",
    "#Read in the fits file of the spectra and extract the flux and wavelength\n",
    "fits_file = spectra\n",
    "table = fits.open(fits_file)\n",
    "flux = table[0].data\n",
    "w0 = table[0].header['CRVAL1']\n",
    "dw = table[0].header['CDELT1']\n",
    "p0 = table[0].header['CRPIX1']\n",
    "nlam = len(flux)\n",
    "wave = w0+dw*(np.arange(nlam, dtype='d')-p0)\n",
    "table.close()\n",
    "\n",
    "full = np.column_stack((wave, flux))\n",
    "\n",
    "#Initialise for pre-processing\n",
    "preProcess = sp.PreProcessing(full, 2500, 10000, 1024)\n",
    "\n",
    "#Do the pre-processing steps\n",
    "sfWave, sfFlux, minInd, maxInd, sfZ, sfArea = preProcess.two_column_data(z, smooth=6, minWave=2500, maxWave=10000)\n",
    "\n",
    "#Do scaling                                                                            \n",
    "flux_pro = sfFlux/sfArea"
   ]
  },
  {
   "cell_type": "markdown",
   "metadata": {
    "id": "L-sUbK8ZkgT2"
   },
   "source": [
    "# Cutting the Spectra\n",
    "\n",
    "Many of the tags use specific wavelength ranges of the spectrum rather than the whole thing and so we create multiple instances of the original spectrum cut at the corresponding wavelengths for each tag. "
   ]
  },
  {
   "cell_type": "code",
   "execution_count": 3,
   "metadata": {
    "id": "N1EcHncfl0qO"
   },
   "outputs": [],
   "source": [
    "class feature_data(object):\n",
    "    \"\"\"a class for holding the wavelength and flux for a specific tag.\"\"\"\n",
    "    def __init__(self, label):\n",
    "        self.label = label\n",
    "        self.wavelength = []\n",
    "        self.flux = []\n",
    "\n",
    "cuts = np.genfromtxt('%s/cuts.txt' % path, dtype=int)\n",
    "#Silicon 6355\n",
    "si_6355_tag = feature_data('Si 6355')\n",
    "si_6355_tag.wavelength = cuts[0]\n",
    "si_6355_tag.flux = flux_pro[si_6355_tag.wavelength[0]:si_6355_tag.wavelength[1]]\n",
    "\n",
    "#Calcium H&K\n",
    "ca_tag = feature_data('Ca')\n",
    "ca_tag.wavelength = cuts[2]\n",
    "ca_tag.flux = flux_pro[ca_tag.wavelength[0]:ca_tag.wavelength[1]]\n",
    "\n",
    "#Iron 4924\n",
    "fe_4924_tag = feature_data('Fe 4924')\n",
    "fe_4924_tag.wavelength = cuts[4]\n",
    "fe_4924_tag.flux = flux_pro[fe_4924_tag.wavelength[0]:fe_4924_tag.wavelength[1]]\n",
    "\n",
    "#Sulphur\n",
    "s_tag = feature_data('S')\n",
    "s_tag.wavelength = cuts[5]\n",
    "s_tag.flux = flux_pro[s_tag.wavelength[0]:s_tag.wavelength[1]]\n",
    "\n",
    "#Hydrogen alpha\n",
    "ha_tag = feature_data('HA')\n",
    "ha_tag.wavelength = cuts[6]\n",
    "ha_tag.flux = flux_pro[ha_tag.wavelength[0]:ha_tag.wavelength[1]]\n",
    "\n",
    "#5876 absorption feature\n",
    "line_a_tag = feature_data('Na I')\n",
    "line_a_tag.wavelength = cuts[8]\n",
    "line_a_tag.flux = flux_pro[line_a_tag.wavelength[0]:line_a_tag.wavelength[1]]\n",
    "\n",
    "#Helium 6450\n",
    "he_6450_tag = feature_data('He 6450')\n",
    "he_6450_tag.wavelength = cuts[9]\n",
    "he_6450_tag.flux = flux_pro[he_6450_tag.wavelength[0]:he_6450_tag.wavelength[1]]\n",
    "\n",
    "#Iron 5018\n",
    "fe_5018_tag = feature_data('Fe 5018')\n",
    "fe_5018_tag.wavelength = cuts[11]\n",
    "fe_5018_tag.flux = flux_pro[fe_5018_tag.wavelength[0]:fe_5018_tag.wavelength[1]]\n",
    "\n",
    "#Iron 5170\n",
    "fe_5170_tag = feature_data('Fe 5170')\n",
    "fe_5170_tag.wavelength = cuts[12]\n",
    "fe_5170_tag.flux = flux_pro[fe_5170_tag.wavelength[0]:fe_5170_tag.wavelength[1]]\n",
    "\n",
    "#Hydrogen gamma\n",
    "hg_tag = feature_data('HG')\n",
    "hg_tag.wavelength = cuts[13]\n",
    "hg_tag.flux = flux_pro[hg_tag.wavelength[0]:hg_tag.wavelength[1]]\n",
    "\n",
    "#Silicon 4000\n",
    "si_4000_tag = feature_data('Si 4000')\n",
    "si_4000_tag.wavelength = cuts[14]\n",
    "si_4000_tag.flux = flux_pro[si_4000_tag.wavelength[0]:si_4000_tag.wavelength[1]]\n",
    "\n",
    "#Hydrogen beta\n",
    "hb_tag = feature_data('HB')\n",
    "hb_tag.wavelength = cuts[15]\n",
    "hb_tag.flux = flux_pro[hb_tag.wavelength[0]:hb_tag.wavelength[1]]"
   ]
  },
  {
   "cell_type": "markdown",
   "metadata": {
    "id": "buC5DrRJnuj4"
   },
   "source": [
    "# Tagging\n",
    "\n",
    "With spectra pre-processed and the necessary cuts made, we can now get the tag probabilities of the spectra and add them to an array ready to be given to the trained classifier."
   ]
  },
  {
   "cell_type": "code",
   "execution_count": 12,
   "metadata": {
    "id": "-ilC7PlVoKtO"
   },
   "outputs": [],
   "source": [
    "from tagging import log_reg_two\n",
    "\n",
    "final = np.zeros([1,14])\n",
    "\n",
    "#Get Hydrogen alpha tag probabilities\n",
    "HA_result = log_reg_two(ha_tag.flux, beta[0])\n",
    "final[0][0] = HA_result\n",
    "\n",
    "#Get Hydrogen beta tag probabilities\n",
    "HB_result = log_reg_two(hb_tag.flux, beta[11])\n",
    "final[0][1] = HB_result\n",
    "\n",
    "#Get Hydrogen gamma tag probabilities\n",
    "HG_result = log_reg_two(hg_tag.flux, beta[9])\n",
    "final[0][2] = HG_result\n",
    "\n",
    "#Get Silicon 4000 tag probabilities\n",
    "Si_4000_result = log_reg_two(si_4000_tag.flux, beta[10])\n",
    "final[0][3] = Si_4000_result\n",
    "\n",
    "#Get Silicon 6355 tag probabilities\n",
    "Si_6355_result = log_reg_two(si_6355_tag.flux, beta[1])\n",
    "final[0][4] = Si_6355_result\n",
    "\n",
    "#Get Sulphur tag probabilities\n",
    "S_result = log_reg_two(s_tag.flux, beta[5])\n",
    "final[0][5] = S_result\n",
    "\n",
    "#Get Helium 6450 tag probabilities\n",
    "He_6450_result = log_reg_two(he_6450_tag.flux, beta[6])\n",
    "final[0][6] = He_6450_result\n",
    "\n",
    "#Get feature at 5876 tag probabilities\n",
    "line_abs_result = log_reg_two(line_a_tag.flux, beta[2])\n",
    "final[0][7] = line_abs_result\n",
    "\n",
    "#Silicon 5876\n",
    "si_5876 = ((Si_6355_result + Si_4000_result)/2) * line_abs_result\n",
    "final[0][8] = si_5876\n",
    "\n",
    "#Helium 5876\n",
    "he_5876 = (He_6450_result/1) * line_abs_result\n",
    "final[0][9] = he_5876\n",
    "\n",
    "#Get Calcium tag probabilities\n",
    "Ca_result = log_reg_two(ca_tag.flux, beta[3])\n",
    "final[0][10] = Ca_result\n",
    "\n",
    "#Get Fe 4924 tag probabilities\n",
    "Fe_4924_result = log_reg_two(fe_4924_tag.flux, beta[4])\n",
    "final[0][11] = Fe_4924_result\n",
    "\n",
    "#Get Fe 5018 tag probabilities\n",
    "Fe_5018_result = log_reg_two(fe_5018_tag.flux, beta[7])\n",
    "final[0][12] = Fe_5018_result\n",
    "\n",
    "#Get Fe 5170 tag probabilities\n",
    "Fe_5170_result = log_reg_two(fe_5170_tag.flux, beta[8])\n",
    "final[0][13] = Fe_5170_result"
   ]
  },
  {
   "cell_type": "markdown",
   "metadata": {
    "id": "5I3z-TRIlGUs"
   },
   "source": [
    "# Tag Probabilities\n",
    "\n",
    "One of the key features of STag is that all of the tags have probabilties, which can be accessed on demand."
   ]
  },
  {
   "cell_type": "code",
   "execution_count": 13,
   "metadata": {},
   "outputs": [
    {
     "name": "stdout",
     "output_type": "stream",
     "text": [
      "HA        0.00\n",
      "HB        0.00\n",
      "HG        0.26\n",
      "Si 4000   0.71\n",
      "Si 6355   0.99\n",
      "S         0.01\n",
      "He 6450   0.01\n",
      "5876      0.87\n",
      "Si 5876   0.74\n",
      "He 5876   0.01\n",
      "Ca        1.00\n",
      "Fe 4924   0.99\n",
      "Fe 5018   0.00\n",
      "Fe 5170   0.00\n"
     ]
    }
   ],
   "source": [
    "tag_names = ['HA      ','HB      ','HG      ','Si 4000 ','Si 6355 ','S       ','He 6450 ', '5876    ','Si 5876 ','He 5876 ','Ca      ','Fe 4924 ','Fe 5018 ','Fe 5170 ']\n",
    "for i in range(0,len(tag_names)):\n",
    "    print(\"{0:s} {1:5.2f}\".format(tag_names[i],final[0][i]))"
   ]
  },
  {
   "cell_type": "markdown",
   "metadata": {
    "id": "n0dH9swhqlFe"
   },
   "source": [
    "# Classifying\n",
    "\n",
    "We can now make our predictions for the class of the supernova by using the trained model. Since we are using softmax, we use 'np.argmax' to select the class with the highest probability, though one can see the probabilities of all the classes by printing 'class_prob'.\n",
    "\n",
    "The predicted class is given a number, which corresponds to one of the 5 possible classes:\n",
    "\n",
    "0 = Type Ia-norm\n",
    "\n",
    "1 = Type Ia-csm\n",
    "\n",
    "2 = Type Ib-norm\n",
    "\n",
    "3 = Type Ic-norm\n",
    "\n",
    "4 = Type II"
   ]
  },
  {
   "cell_type": "code",
   "execution_count": 15,
   "metadata": {
    "id": "v5vONcaOqjuY"
   },
   "outputs": [
    {
     "name": "stdout",
     "output_type": "stream",
     "text": [
      "SN DES15C2aty (with redshift 0.149) predicted class is 0 with a 0.999 probability \n"
     ]
    }
   ],
   "source": [
    "import keras\n",
    "v = keras.__version__\n",
    "from packaging import version\n",
    "if version.parse(v) < version.parse('2.5.0'):\n",
    "    print(\"You may need to update Keras\")\n",
    "\n",
    "to_classify = np.zeros([1,9])\n",
    "\n",
    "#Hydrogen alpha\n",
    "to_classify[0][0] = HA_result\n",
    "\n",
    "#Hydrogen beta\n",
    "to_classify[0][6] = HB_result\n",
    "\n",
    "#Hydrogen gamma\n",
    "to_classify[0][4] = HG_result\n",
    "\n",
    "#Silicon 4000\n",
    "to_classify[0][5] = Si_4000_result\n",
    "\n",
    "#Silicon 6355\n",
    "to_classify[0][4] = Si_6355_result\n",
    "\n",
    "#Sulphur\n",
    "to_classify[0][2] = S_result\n",
    "\n",
    "#Helium 6450\n",
    "to_classify[0][3] = He_6450_result\n",
    "\n",
    "#Silicon 5876\n",
    "to_classify[0][7] = si_5876\n",
    "\n",
    "#Helium 5876\n",
    "to_classify[0][8] = he_5876\n",
    "\n",
    "#Load in the trained model\n",
    "model = keras.models.load_model('%s/STag Version II.h5' % path)\n",
    "\n",
    "#Make classification prediction\n",
    "class_prob = model.predict(to_classify)\n",
    "preds = np.argmax(class_prob, axis=-1)\n",
    "print(\"SN %s (with redshift %.3f) predicted class is %d with a %.3f probability \" %  (name,z,preds,class_prob[0][preds]))"
   ]
  },
  {
   "cell_type": "markdown",
   "metadata": {
    "id": "Vgy6qy7Zm461"
   },
   "source": [
    "# Closing Remarks\n",
    "\n",
    "One can use STag by following the steps outlined in this notebook, and with slight modifications one can adapt this code to run on multiple spectra rather than one at a time. \n",
    "\n",
    "Note that the classifying model used has only been trained on the 10 tags shown in this notebook, if one wishes to add additional tags then the model will need to be trained again. A more detailed description of how the tags have been made and how the model was built can be found in our paper: https://arxiv.org/abs/2108.10497\n",
    "\n",
    "Version: This is STag 2.0, detailed change logs can be found in the readme file."
   ]
  }
 ],
 "metadata": {
  "colab": {
   "name": "STag Demonstration.ipynb",
   "provenance": []
  },
  "kernelspec": {
   "display_name": "Python 3 (ipykernel)",
   "language": "python",
   "name": "python3"
  },
  "language_info": {
   "codemirror_mode": {
    "name": "ipython",
    "version": 3
   },
   "file_extension": ".py",
   "mimetype": "text/x-python",
   "name": "python",
   "nbconvert_exporter": "python",
   "pygments_lexer": "ipython3",
   "version": "3.9.7"
  }
 },
 "nbformat": 4,
 "nbformat_minor": 1
}
