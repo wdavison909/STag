{
 "cells": [
  {
   "cell_type": "markdown",
   "id": "e4e7ef44-22d1-421a-a983-bd4758c3fd04",
   "metadata": {},
   "source": [
    "# STag II Demonstration\n",
    "\n",
    "The following iPython Jupyter notebook gives a step-by-step demonstration of how to use STag to get the tag probabilities, equivalent widths, and the predicted class for a spectra.\n",
    "\n",
    "# Setup\n",
    "\n",
    "The first step is to read in the beta values for each of the tags as well as an example spectrum (this can be modified to read in an appropriate spectrum of your choice)."
   ]
  },
  {
   "cell_type": "code",
   "execution_count": 1,
   "id": "3c100a7f-f6eb-4fe6-bc82-ec9009c1a176",
   "metadata": {
    "tags": []
   },
   "outputs": [],
   "source": [
    "import beta_readerII\n",
    "import numpy as np\n",
    "import os \n",
    "\n",
    "path = os.getcwd()\n",
    "beta = beta_readerII.beta_reader(path)\n",
    "spectra = '%s/tns_2021qtc_2021-06-25_08-40-51.161193_P60_SEDM_ZTF.ascii' % path\n",
    "name = ['SN 2021qtc']\n",
    "z = [0.081]"
   ]
  },
  {
   "cell_type": "markdown",
   "id": "70a52a01-e2c4-48b1-824c-6d983dce3b26",
   "metadata": {},
   "source": [
    "# Pre-processing\n",
    "\n",
    "In order to use STag, spectra need to be pre-processed appropriately. This involves filtering, de-redshifting, binning, continuum removal, apodisation.\n",
    "\n",
    "All of these steps are handled by the spectra_preprocessing package, which largely uses methods made for the software [DASH](https://github.com/daniel-muthukrishna/astrodash)."
   ]
  },
  {
   "cell_type": "code",
   "execution_count": 2,
   "id": "bb900d53-db81-4f6a-b58b-b83743457c1d",
   "metadata": {
    "tags": []
   },
   "outputs": [],
   "source": [
    "import spectra_preprocessing as sp\n",
    "from astropy.io import fits\n",
    "\n",
    "#Read in the data file of the spectra and extract the flux and wavelength\n",
    "data = np.genfromtxt(spectra)\n",
    "wave = data[:,0]\n",
    "flux = data[:,1]\n",
    "\n",
    "full = np.column_stack((wave, flux))\n",
    "\n",
    "#Initialise for pre-processing\n",
    "preProcess = sp.PreProcessing(full, 2500, 10000, 1500)\n",
    "\n",
    "#Do the pre-processing steps\n",
    "sfWave, sfFlux, minInd, maxInd, sfZ, sfArea = preProcess.two_column_data(z[0], smooth=6, minWave=2500, maxWave=10000)"
   ]
  },
  {
   "cell_type": "markdown",
   "id": "2cd3101e-c7b2-4cbf-8168-8298d9420008",
   "metadata": {},
   "source": [
    "# Cutting the Spectra\n",
    "\n",
    "Many of the tags use specific wavelength ranges of the spectrum rather than the whole thing and so we create multiple instances of the original spectrum cut at the corresponding wavelengths for each tag. "
   ]
  },
  {
   "cell_type": "code",
   "execution_count": 3,
   "id": "93c98227-2729-4f2e-ad52-644ccdecb074",
   "metadata": {
    "tags": []
   },
   "outputs": [],
   "source": [
    "import EW_calculator\n",
    "\n",
    "class feature_data(object):\n",
    "    \"\"\"a class for holding the wavelength and flux for a specific tag.\"\"\"\n",
    "    def __init__(self, label):\n",
    "        self.label = label\n",
    "        self.wavelength = []\n",
    "        self.flux = []\n",
    "        self.eqw = []\n",
    "        \n",
    "cuts = np.genfromtxt('%s/cuts_v2.txt' % path, dtype=int)\n",
    "\n",
    "#Silicon 6355\n",
    "si_6355_tag = feature_data('Si 6355')\n",
    "si_6355_tag.wavelength = cuts[0]\n",
    "si_6355_tag.flux = sfFlux[si_6355_tag.wavelength[0]:si_6355_tag.wavelength[1]]\n",
    "si_6355_tag.eqw = EW_calculator.eqw(si_6355_tag.wavelength[0],si_6355_tag.wavelength[1],sfWave,sfFlux)\n",
    "\n",
    "#Calcium H&K\n",
    "ca_tag = feature_data('Ca H&K')\n",
    "ca_tag.wavelength = cuts[1]\n",
    "ca_tag.flux = sfFlux[ca_tag.wavelength[0]:ca_tag.wavelength[1]]\n",
    "ca_tag.eqw = EW_calculator.eqw(ca_tag.wavelength[0],ca_tag.wavelength[1],sfWave,sfFlux)\n",
    "\n",
    "#Sulphur\n",
    "s_tag = feature_data('S')\n",
    "s_tag.wavelength = cuts[2]\n",
    "s_tag.flux = sfFlux[s_tag.wavelength[0]:s_tag.wavelength[1]]\n",
    "s_tag.eqw = EW_calculator.eqw(s_tag.wavelength[0],s_tag.wavelength[1],sfWave,sfFlux)\n",
    "\n",
    "#Hydrogen Alpha Narrow\n",
    "ha_tag = feature_data('H Alpha Narrow')\n",
    "ha_tag.wavelength = cuts[3]\n",
    "ha_tag.flux = sfFlux[ha_tag.wavelength[0]:ha_tag.wavelength[1]]\n",
    "ha_tag.eqw = EW_calculator.eqw(ha_tag.wavelength[0],ha_tag.wavelength[1],sfWave,sfFlux)\n",
    "\n",
    "#Helium 5876\n",
    "he_tag = feature_data('He 5876')\n",
    "he_tag.wavelength = cuts[4]\n",
    "he_tag.flux = sfFlux[he_tag.wavelength[0]:he_tag.wavelength[1]]\n",
    "he_tag.eqw = EW_calculator.eqw(he_tag.wavelength[0],he_tag.wavelength[1],sfWave,sfFlux)\n",
    "\n",
    "#Iron 5170\n",
    "fe_tag = feature_data('Fe 5170')\n",
    "fe_tag.wavelength = cuts[5]\n",
    "fe_tag.flux = sfFlux[fe_tag.wavelength[0]:fe_tag.wavelength[1]]\n",
    "fe_tag.eqw = EW_calculator.eqw(fe_tag.wavelength[0],fe_tag.wavelength[1],sfWave,sfFlux)\n",
    "\n",
    "#Silicon 4000\n",
    "si_4000_tag = feature_data('Si 4000')\n",
    "si_4000_tag.wavelength = cuts[6]\n",
    "si_4000_tag.flux = sfFlux[si_4000_tag.wavelength[0]:si_4000_tag.wavelength[1]]\n",
    "si_4000_tag.eqw = EW_calculator.eqw(si_4000_tag.wavelength[0],si_4000_tag.wavelength[1],sfWave,sfFlux)\n",
    "\n",
    "#Hydrogen Beta\n",
    "hb_tag = feature_data('H Beta')\n",
    "hb_tag.wavelength = cuts[7]\n",
    "hb_tag.flux = sfFlux[hb_tag.wavelength[0]:hb_tag.wavelength[1]]\n",
    "hb_tag.eqw = EW_calculator.eqw(hb_tag.wavelength[0],hb_tag.wavelength[1],sfWave,sfFlux)\n",
    "\n",
    "#Hydrogen Alpha Wide\n",
    "haw_tag = feature_data('H Alpha Wide')\n",
    "haw_tag.wavelength = cuts[8]\n",
    "haw_tag.flux = sfFlux[haw_tag.wavelength[0]:haw_tag.wavelength[1]]\n",
    "haw_tag.eqw = EW_calculator.eqw(haw_tag.wavelength[0],haw_tag.wavelength[1],sfWave,sfFlux)"
   ]
  },
  {
   "cell_type": "markdown",
   "id": "12daaf1c-0ff8-4fde-a5e1-12b283c35aae",
   "metadata": {
    "tags": []
   },
   "source": [
    "# Tagging\n",
    "\n",
    "With spectra pre-processed and the necessary cuts made, we can now get the tag probabilities of the spectra and add them to an array ready to be given to the trained classifier."
   ]
  },
  {
   "cell_type": "code",
   "execution_count": 4,
   "id": "1e2efb11-2eac-4823-9f48-09d7ce1e57f2",
   "metadata": {
    "tags": []
   },
   "outputs": [],
   "source": [
    "from tagging import log_reg_two\n",
    "\n",
    "final = np.zeros([1,18])\n",
    "\n",
    "#Assign tag probablities\n",
    "#H alpha narrow\n",
    "ha_result = log_reg_two(ha_tag.flux, beta[4])\n",
    "final[:,0] = ha_result\n",
    "\n",
    "#H beta\n",
    "hb_result = log_reg_two(hb_tag.flux, beta[5])\n",
    "final[:,1] = hb_result\n",
    "\n",
    "#Si 4000\n",
    "si_4000_result = log_reg_two(si_4000_tag.flux, beta[0])\n",
    "final[:,2] = si_4000_result\n",
    "\n",
    "#Si 6355\n",
    "si_6355_result = log_reg_two(si_6355_tag.flux, beta[2])\n",
    "final[:,3] = si_6355_result\n",
    "\n",
    "#S W\n",
    "s_result = log_reg_two(s_tag.flux, beta[1])\n",
    "final[:,4] = s_result\n",
    "\n",
    "#He 5876\n",
    "he_result = log_reg_two(he_tag.flux, beta[3])\n",
    "final[:,5] = he_result\n",
    "\n",
    "#Ca H&K\n",
    "ca_result = log_reg_two(ca_tag.flux, beta[6])\n",
    "final[:,6] = ca_result\n",
    "\n",
    "#Fe 5170\n",
    "fe_result = log_reg_two(fe_tag.flux, beta[7])\n",
    "final[:,7] = fe_result\n",
    "\n",
    "#He Eq. Width\n",
    "final[:,8] = he_tag.eqw\n",
    "\n",
    "#H alpha Eq. Width\n",
    "final[:,9] = ha_tag.eqw\n",
    "\n",
    "#H beta Eq. Width\n",
    "final[:,10] = hb_tag.eqw\n",
    "\n",
    "#Ca HK Eq. Width\n",
    "final[:,11] = ca_tag.eqw\n",
    "\n",
    "#Si 4000 Eq. Width\n",
    "final[:,12] = si_4000_tag.eqw\n",
    "\n",
    "#Si 4000 prob. * eqw\n",
    "final[:,13]  = si_4000_result * si_4000_tag.eqw\n",
    "\n",
    "#Fe 5170 Eq. Width\n",
    "final[:,14] = fe_tag.eqw\n",
    "\n",
    "#Si 6150 Eq. Width\n",
    "final[:,15] = si_6355_tag.eqw\n",
    "\n",
    "#H alpha wide\n",
    "haw_result = log_reg_two(haw_tag.flux, beta[8])\n",
    "final[:,16] = haw_result\n",
    "\n",
    "#H alpha wide Eq. Width\n",
    "final[:,17] = haw_tag.eqw"
   ]
  },
  {
   "cell_type": "markdown",
   "id": "2557eb00-0da7-4209-97ac-04f5adea5306",
   "metadata": {
    "tags": []
   },
   "source": [
    "# Classifying\n",
    "\n",
    "We can now make our predictions for the class of the supernova by using the trained model. Since we are using softmax, we use 'np.argmax' to select the class with the highest probability, though one can see the probabilities of all the classes by printing 'class_prob'.\n",
    "\n",
    "The predicted class is given a number, which corresponds to one of the 5 possible classes:\n",
    "\n",
    "0 = Type Ia\n",
    "\n",
    "1 = Type Ib\n",
    "\n",
    "2 = Type Ic\n",
    "\n",
    "3 = Type II"
   ]
  },
  {
   "cell_type": "code",
   "execution_count": null,
   "id": "7e6ed088-cacd-430e-8d8f-a9bd3d63270b",
   "metadata": {
    "tags": []
   },
   "outputs": [],
   "source": [
    "import keras\n",
    "v = keras.__version__\n",
    "from packaging import version\n",
    "if version.parse(v) < version.parse('2.5.0'):\n",
    "    print(\"You may need to update Keras\")\n",
    "\n",
    "#Load in the trained model\n",
    "model = keras.models.load_model('%s/STagV4_model_v1' % path)\n",
    "\n",
    "#Make classification prediction\n",
    "class_prob = model.predict(final)\n",
    "preds = np.argmax(class_prob, axis=-1)\n",
    "\n",
    "sfFlux = [sfFlux]\n",
    "flux = [flux]\n",
    "wave = [wave]\n",
    "\n",
    "path2 = '%s/CC Models' % path\n",
    "classification = z_checking.z_check(path,path2,name,z,flux,wave,sfFlux,sfWave,preds,beta[0],beta[1],beta[2],beta[3],beta[4],beta[5],beta[6],beta[7],beta[8],[final[0][0]],[final[0][1]],[final[0][2]],[final[0][3]],[final[0][4]],[final[0][5]],[final[0][6]],[final[0][7]],[final[0][16]],[final[0][8]],[final[0][9]],[final[0][10]],[final[0][11]],[final[0][12]],[final[0][14]],[final[0][15]],[final[0][17]])"
   ]
  }
 ],
 "metadata": {
  "kernelspec": {
   "display_name": "DESI master",
   "language": "python",
   "name": "desi-master"
  },
  "language_info": {
   "codemirror_mode": {
    "name": "ipython",
    "version": 3
   },
   "file_extension": ".py",
   "mimetype": "text/x-python",
   "name": "python",
   "nbconvert_exporter": "python",
   "pygments_lexer": "ipython3",
   "version": "3.10.14"
  }
 },
 "nbformat": 4,
 "nbformat_minor": 5
}
